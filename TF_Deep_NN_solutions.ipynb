{
 "cells": [
  {
   "cell_type": "code",
   "execution_count": 1,
   "metadata": {
    "collapsed": true,
    "deletable": true,
    "editable": true
   },
   "outputs": [],
   "source": [
    "%matplotlib inline\n",
    "import matplotlib\n",
    "import seaborn as sns\n",
    "matplotlib.rcParams['savefig.dpi'] = 144"
   ]
  },
  {
   "cell_type": "code",
   "execution_count": 2,
   "metadata": {
    "collapsed": true,
    "deletable": true,
    "editable": true
   },
   "outputs": [],
   "source": [
    "import numpy as np\n",
    "import tensorflow as tf\n",
    "from tensorflow.examples.tutorials.mnist import input_data\n",
    "\n",
    "import matplotlib.pyplot as plt\n",
    "\n",
    "import time\n",
    "from datetime import datetime, timedelta\n",
    "\n",
    "from pylib.draw_nn import draw_neural_net_fig"
   ]
  },
  {
   "cell_type": "code",
   "execution_count": 3,
   "metadata": {
    "collapsed": true,
    "deletable": true,
    "editable": true
   },
   "outputs": [],
   "source": [
    "sess = None\n",
    "\n",
    "def reset_vars():\n",
    "    sess.run(tf.global_variables_initializer())\n",
    "\n",
    "def reset_tf():\n",
    "    global sess\n",
    "    if sess:\n",
    "        sess.close()\n",
    "    tf.reset_default_graph()\n",
    "    sess = tf.Session()"
   ]
  },
  {
   "cell_type": "code",
   "execution_count": 4,
   "metadata": {
    "collapsed": false,
    "deletable": true,
    "editable": true
   },
   "outputs": [
    {
     "name": "stdout",
     "output_type": "stream",
     "text": [
      "Extracting /tmp/data/train-images-idx3-ubyte.gz\n",
      "Extracting /tmp/data/train-labels-idx1-ubyte.gz\n",
      "Extracting /tmp/data/t10k-images-idx3-ubyte.gz\n",
      "Extracting /tmp/data/t10k-labels-idx1-ubyte.gz\n"
     ]
    }
   ],
   "source": [
    "mnist = input_data.read_data_sets('/tmp/data', one_hot=True)"
   ]
  },
  {
   "cell_type": "code",
   "execution_count": 5,
   "metadata": {
    "collapsed": true,
    "deletable": true,
    "editable": true
   },
   "outputs": [],
   "source": [
    "N_PIXELS= 28 * 28\n",
    "N_CLASSES = 10\n",
    "BATCH_SIZE = 100\n",
    "LEARNING_RATE = 0.5"
   ]
  },
  {
   "cell_type": "code",
   "execution_count": 6,
   "metadata": {
    "collapsed": true,
    "deletable": true,
    "editable": true
   },
   "outputs": [],
   "source": [
    "n_steps = 50000"
   ]
  },
  {
   "cell_type": "code",
   "execution_count": 7,
   "metadata": {
    "collapsed": true,
    "deletable": true,
    "editable": true
   },
   "outputs": [],
   "source": [
    "hidden_size = 256"
   ]
  },
  {
   "cell_type": "code",
   "execution_count": 8,
   "metadata": {
    "collapsed": true,
    "deletable": true,
    "editable": true
   },
   "outputs": [],
   "source": [
    "reset_tf()\n",
    "\n",
    "x = tf.placeholder(tf.float32, [None, N_PIXELS], name=\"pixels\")\n",
    "y_label = tf.placeholder(tf.float32, [None, 10], name=\"labels\")\n",
    "training = tf.placeholder(tf.bool, name=\"training\")\n",
    "\n",
    "hidden1 = tf.layers.dense(x, hidden_size, activation=tf.nn.sigmoid, use_bias=True,\n",
    "    kernel_initializer=tf.truncated_normal_initializer(stddev=N_PIXELS**-0.5))\n",
    "\n",
    "hidden2 = tf.layers.dense(hidden1, hidden_size, activation=tf.nn.sigmoid, use_bias=True,\n",
    "    kernel_initializer=tf.truncated_normal_initializer(stddev=hidden_size**-0.5))\n",
    "\n",
    "y = tf.layers.dense(hidden2, 10, activation=None, use_bias=True,\n",
    "    kernel_initializer=tf.truncated_normal_initializer(stddev=hidden_size**-0.5))"
   ]
  },
  {
   "cell_type": "code",
   "execution_count": 9,
   "metadata": {
    "collapsed": true,
    "deletable": true,
    "editable": true
   },
   "outputs": [],
   "source": [
    "def train_mnist(x, y_label, loss, accuracy, train, training, steps_total, steps_print):\n",
    "    metrics = {\n",
    "        'train_loss': [],\n",
    "        'train_acc': [],\n",
    "        'test_loss': [],\n",
    "        'test_acc': []\n",
    "    }\n",
    "    \n",
    "    reset_vars()\n",
    "    for i in xrange(steps_total):\n",
    "        batch_x, batch_y = mnist.train.next_batch(BATCH_SIZE)\n",
    "        sess.run(train,\n",
    "                 feed_dict={x: batch_x, y_label: batch_y, training: True})\n",
    "        if i % steps_print == 0 or i == steps_total - 1:\n",
    "            l, a = sess.run([loss, accuracy],\n",
    "                            feed_dict={x: mnist.test.images,\n",
    "                                       y_label: mnist.test.labels,\n",
    "                                       training: False})\n",
    "            metrics['test_loss'].append(l)\n",
    "            metrics['test_acc'].append(a)\n",
    "            print \"Test:  %0.5f, %0.5f\" % (l, a)\n",
    "            l, a = sess.run([loss, accuracy],\n",
    "                            feed_dict={x: mnist.train.images, \n",
    "                                       y_label: mnist.train.labels,\n",
    "                                       training: False})\n",
    "            metrics['train_loss'].append(l)\n",
    "            metrics['train_acc'].append(a)\n",
    "            print \"Train: %0.5f, %0.5f\" % (l, a)\n",
    "    return metrics"
   ]
  },
  {
   "cell_type": "code",
   "execution_count": 10,
   "metadata": {
    "collapsed": false,
    "deletable": true,
    "editable": true
   },
   "outputs": [
    {
     "name": "stdout",
     "output_type": "stream",
     "text": [
      "Test:  3.04423, 0.10320\n",
      "Train: 3.05122, 0.09945\n",
      "Test:  0.29133, 0.91340\n",
      "Train: 0.30452, 0.91089\n",
      "Test:  0.22209, 0.93320\n",
      "Train: 0.22176, 0.93429\n",
      "Test:  0.16256, 0.95160\n",
      "Train: 0.15965, 0.95313\n",
      "Test:  0.13835, 0.95650\n",
      "Train: 0.12944, 0.96251\n",
      "Test:  0.12615, 0.96030\n",
      "Train: 0.11148, 0.96631\n",
      "Test:  0.11430, 0.96590\n",
      "Train: 0.09291, 0.97302\n",
      "Test:  0.09154, 0.97100\n",
      "Train: 0.07131, 0.97887\n",
      "Test:  0.08693, 0.97230\n",
      "Train: 0.05953, 0.98307\n",
      "Test:  0.09229, 0.97170\n",
      "Train: 0.05998, 0.98216\n",
      "Test:  0.07855, 0.97560\n",
      "Train: 0.04422, 0.98735\n",
      "Test:  0.07659, 0.97630\n",
      "Train: 0.03739, 0.98980\n",
      "Test:  0.08134, 0.97440\n",
      "Train: 0.04259, 0.98633\n",
      "Test:  0.07682, 0.97760\n",
      "Train: 0.03320, 0.98978\n",
      "Test:  0.07209, 0.97870\n",
      "Train: 0.02376, 0.99411\n",
      "Test:  0.07191, 0.97860\n",
      "Train: 0.02111, 0.99480\n",
      "Test:  0.07214, 0.97770\n",
      "Train: 0.01657, 0.99689\n",
      "Test:  0.07193, 0.97920\n",
      "Train: 0.01365, 0.99796\n",
      "Test:  0.07480, 0.97830\n",
      "Train: 0.01312, 0.99762\n",
      "Test:  0.07110, 0.97880\n",
      "Train: 0.00963, 0.99896\n",
      "Test:  0.07415, 0.97760\n",
      "Train: 0.00963, 0.99862\n",
      "Test:  0.07255, 0.98010\n",
      "Train: 0.00766, 0.99925\n",
      "Test:  0.07238, 0.97910\n",
      "Train: 0.00618, 0.99953\n",
      "Test:  0.07281, 0.98060\n",
      "Train: 0.00536, 0.99967\n",
      "Test:  0.07416, 0.98080\n",
      "Train: 0.00495, 0.99975\n",
      "Test:  0.07407, 0.97910\n",
      "Train: 0.00426, 0.99982\n",
      "Test:  0.07580, 0.98000\n",
      "Train: 0.00370, 0.99985\n",
      "Test:  0.07585, 0.97990\n",
      "Train: 0.00344, 0.99985\n",
      "Test:  0.07649, 0.97950\n",
      "Train: 0.00308, 0.99993\n",
      "Test:  0.07738, 0.97960\n",
      "Train: 0.00280, 0.99998\n",
      "Test:  0.07838, 0.97960\n",
      "Train: 0.00271, 0.99998\n",
      "Test:  0.07821, 0.97940\n",
      "Train: 0.00225, 0.99996\n",
      "Test:  0.07893, 0.97970\n",
      "Train: 0.00214, 0.99998\n",
      "Test:  0.07851, 0.97970\n",
      "Train: 0.00201, 1.00000\n",
      "Test:  0.07847, 0.97980\n",
      "Train: 0.00192, 1.00000\n",
      "Test:  0.08000, 0.98000\n",
      "Train: 0.00175, 0.99998\n",
      "Test:  0.07977, 0.97940\n",
      "Train: 0.00166, 1.00000\n",
      "Test:  0.08090, 0.97970\n",
      "Train: 0.00154, 0.99998\n",
      "Test:  0.08120, 0.97950\n",
      "Train: 0.00143, 1.00000\n",
      "Test:  0.08123, 0.97970\n",
      "Train: 0.00135, 1.00000\n",
      "Test:  0.08153, 0.97960\n",
      "Train: 0.00130, 1.00000\n",
      "Test:  0.08179, 0.98010\n",
      "Train: 0.00124, 1.00000\n",
      "Test:  0.08251, 0.97950\n",
      "Train: 0.00118, 1.00000\n",
      "Test:  0.08254, 0.97990\n",
      "Train: 0.00112, 1.00000\n",
      "Test:  0.08290, 0.97960\n",
      "Train: 0.00107, 1.00000\n",
      "Test:  0.08369, 0.98000\n",
      "Train: 0.00104, 1.00000\n",
      "Test:  0.08357, 0.97980\n",
      "Train: 0.00099, 1.00000\n",
      "Test:  0.08403, 0.98000\n",
      "Train: 0.00103, 1.00000\n",
      "Test:  0.08404, 0.98020\n",
      "Train: 0.00091, 1.00000\n",
      "Test:  0.08437, 0.98020\n",
      "Train: 0.00088, 1.00000\n",
      "Test:  0.08444, 0.97980\n",
      "Train: 0.00086, 1.00000\n"
     ]
    }
   ],
   "source": [
    "loss = tf.reduce_mean(tf.nn.softmax_cross_entropy_with_logits(logits=y,\n",
    "                                                              labels=y_label))\n",
    "train = tf.train.GradientDescentOptimizer(0.5).minimize(loss)\n",
    "accuracy = tf.reduce_mean(tf.cast(tf.equal(tf.argmax(y, 1), tf.argmax(y_label, 1)), tf.float32))\n",
    "\n",
    "res = train_mnist(x, y_label, loss, accuracy, train, training, n_steps, 1000);"
   ]
  },
  {
   "cell_type": "code",
   "execution_count": 11,
   "metadata": {
    "collapsed": false,
    "deletable": true,
    "editable": true
   },
   "outputs": [
    {
     "data": {
      "image/png": "[encoded data removed]",
      "text/plain": [
       "<matplotlib.figure.Figure at 0x7fdb7b26eb90>"
      ]
     },
     "metadata": {},
     "output_type": "display_data"
    }
   ],
   "source": [
    "snc = sns.color_palette()\n",
    "\n",
    "plt.plot(res['test_loss'], color=snc[0])\n",
    "plt.plot(res['train_loss'], color=snc[0], ls='--')\n",
    "plt.ylim(0., 0.2)\n",
    "plt.legend(['Basic Net (test)', 'Basic Net (train)'])\n",
    "plt.ylabel('Loss');"
   ]
  },
  {
   "cell_type": "code",
   "execution_count": 12,
   "metadata": {
    "collapsed": false,
    "deletable": true,
    "editable": true
   },
   "outputs": [
    {
     "data": {
      "text/plain": [
       "[0.084441349, 0.97979999]"
      ]
     },
     "execution_count": 12,
     "metadata": {},
     "output_type": "execute_result"
    }
   ],
   "source": [
    "sess.run([loss, accuracy], {x: mnist.test.images,\n",
    "                            y_label: mnist.test.labels,\n",
    "                            training: False})"
   ]
  },
  {
   "cell_type": "code",
   "execution_count": 13,
   "metadata": {
    "collapsed": true,
    "deletable": true,
    "editable": true
   },
   "outputs": [],
   "source": [
    "def train_mnist_early_stopping(x, y_label, loss, accuracy, train, training, steps_total, steps_print):\n",
    "    metrics = {\n",
    "        'train_loss': [],\n",
    "        'train_acc': [],\n",
    "        'test_loss': [],\n",
    "        'test_acc': []\n",
    "    }\n",
    "    \n",
    "    saver = tf.train.Saver()\n",
    "    best_loss = 100\n",
    "    steps_since_best = 0\n",
    "    reset_vars()\n",
    "    for i in xrange(steps_total):\n",
    "        batch_x, batch_y = mnist.train.next_batch(BATCH_SIZE)\n",
    "        sess.run(train,\n",
    "                 feed_dict={x: batch_x, y_label: batch_y, training: True})\n",
    "        if i % steps_print == 0 or i == steps_total - 1:\n",
    "            l, a = sess.run([loss, accuracy],\n",
    "                            feed_dict={x: mnist.test.images,\n",
    "                                       y_label: mnist.test.labels,\n",
    "                                       training: False})\n",
    "            metrics['test_loss'].append(l)\n",
    "            metrics['test_acc'].append(a)\n",
    "            print \"%i Test:  %0.5f, %0.5f\" % (i, l, a)\n",
    "            if l < best_loss:\n",
    "                best_loss = l\n",
    "                saver.save(sess, \"/tmp/mnist_model.ckpt\")\n",
    "                steps_since_best = 0\n",
    "            else:\n",
    "                steps_since_best += 1\n",
    "                if steps_since_best >= 5:\n",
    "                    break\n",
    "            \n",
    "            l, a = sess.run([loss, accuracy],\n",
    "                            feed_dict={x: mnist.train.images, \n",
    "                                       y_label: mnist.train.labels,\n",
    "                                       training: False})\n",
    "            metrics['train_loss'].append(l)\n",
    "            metrics['train_acc'].append(a)\n",
    "            print \"%i Train: %0.5f, %0.5f\" % (i, l, a)\n",
    "    \n",
    "    saver.restore(sess, \"/tmp/mnist_model.ckpt\")\n",
    "    \n",
    "    return metrics"
   ]
  },
  {
   "cell_type": "code",
   "execution_count": 14,
   "metadata": {
    "collapsed": false,
    "deletable": true,
    "editable": true
   },
   "outputs": [
    {
     "name": "stdout",
     "output_type": "stream",
     "text": [
      "0 Test:  2.92722, 0.09800\n",
      "0 Train: 2.93175, 0.09898\n",
      "1000 Test:  0.31552, 0.90750\n",
      "1000 Train: 0.32602, 0.90353\n",
      "2000 Test:  0.22089, 0.93480\n",
      "2000 Train: 0.22290, 0.93451\n",
      "3000 Test:  0.17747, 0.94700\n",
      "3000 Train: 0.17364, 0.94802\n",
      "4000 Test:  0.13935, 0.95650\n",
      "4000 Train: 0.13002, 0.96173\n",
      "5000 Test:  0.12297, 0.96410\n",
      "5000 Train: 0.10838, 0.96849\n",
      "6000 Test:  0.10275, 0.96820\n",
      "6000 Train: 0.08374, 0.97562\n",
      "7000 Test:  0.10837, 0.96740\n",
      "7000 Train: 0.08088, 0.97591\n",
      "8000 Test:  0.11115, 0.96550\n",
      "8000 Train: 0.07819, 0.97633\n",
      "9000 Test:  0.08342, 0.97290\n",
      "9000 Train: 0.05254, 0.98485\n",
      "10000 Test:  0.08040, 0.97420\n",
      "10000 Train: 0.04455, 0.98676\n",
      "11000 Test:  0.07340, 0.97670\n",
      "11000 Train: 0.03540, 0.99031\n",
      "12000 Test:  0.07741, 0.97600\n",
      "12000 Train: 0.03285, 0.99069\n",
      "13000 Test:  0.07217, 0.97690\n",
      "13000 Train: 0.02574, 0.99335\n",
      "14000 Test:  0.07016, 0.97970\n",
      "14000 Train: 0.02259, 0.99484\n",
      "15000 Test:  0.06723, 0.98030\n",
      "15000 Train: 0.01766, 0.99644\n",
      "16000 Test:  0.06825, 0.98040\n",
      "16000 Train: 0.01591, 0.99696\n",
      "17000 Test:  0.06845, 0.97970\n",
      "17000 Train: 0.01494, 0.99700\n",
      "18000 Test:  0.06699, 0.98090\n",
      "18000 Train: 0.01084, 0.99833\n",
      "19000 Test:  0.06966, 0.97960\n",
      "19000 Train: 0.01048, 0.99842\n",
      "20000 Test:  0.06941, 0.98050\n",
      "20000 Train: 0.00873, 0.99893\n",
      "21000 Test:  0.06947, 0.98140\n",
      "21000 Train: 0.00745, 0.99916\n",
      "22000 Test:  0.07394, 0.97960\n",
      "22000 Train: 0.00737, 0.99920\n",
      "23000 Test:  0.07269, 0.98010\n",
      "INFO:tensorflow:Restoring parameters from /tmp/mnist_model.ckpt\n"
     ]
    }
   ],
   "source": [
    "res_es = train_mnist_early_stopping(x, y_label, loss, accuracy, train, training, n_steps, 1000);"
   ]
  },
  {
   "cell_type": "code",
   "execution_count": 15,
   "metadata": {
    "collapsed": false,
    "deletable": true,
    "editable": true
   },
   "outputs": [
    {
     "data": {
      "image/png": "[encoded data removed]",
      "text/plain": [
       "<matplotlib.figure.Figure at 0x7fdb76865990>"
      ]
     },
     "metadata": {},
     "output_type": "display_data"
    }
   ],
   "source": [
    "plt.plot(res['test_loss'], color=snc[0])\n",
    "plt.plot(res['train_loss'], color=snc[0], ls='--')\n",
    "plt.plot(res_es['test_loss'], color=snc[1])\n",
    "plt.plot(res_es['train_loss'], color=snc[1], ls='--')\n",
    "plt.ylim(0., 0.2)\n",
    "plt.legend(['Basic Net (test)', 'Basic Net (train)',\n",
    "            'Early Stopping (test)', 'Early Stopping (train)'])\n",
    "plt.ylabel('Loss');"
   ]
  },
  {
   "cell_type": "code",
   "execution_count": 16,
   "metadata": {
    "collapsed": false,
    "deletable": true,
    "editable": true
   },
   "outputs": [
    {
     "data": {
      "text/plain": [
       "[0.066991426, 0.98089999]"
      ]
     },
     "execution_count": 16,
     "metadata": {},
     "output_type": "execute_result"
    }
   ],
   "source": [
    "sess.run([loss, accuracy], {x: mnist.test.images,\n",
    "                            y_label: mnist.test.labels,\n",
    "                            training: False})"
   ]
  },
  {
   "cell_type": "markdown",
   "metadata": {
    "deletable": true,
    "editable": true
   },
   "source": [
    "*Copyright &copy; 2017 The Data Incubator.  All rights reserved.*"
   ]
  }
 ],
 "metadata": {
  "kernelspec": {
   "display_name": "Python 2",
   "language": "python",
   "name": "python2"
  },
  "language_info": {
   "codemirror_mode": {
    "name": "ipython",
    "version": 2
   },
   "file_extension": ".py",
   "mimetype": "text/x-python",
   "name": "python",
   "nbconvert_exporter": "python",
   "pygments_lexer": "ipython2",
   "version": "2.7.13"
  },
  "nbclean": true
 },
 "nbformat": 4,
 "nbformat_minor": 0
}
